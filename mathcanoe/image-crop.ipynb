{
 "metadata": {
  "language_info": {
   "codemirror_mode": {
    "name": "ipython",
    "version": 3
   },
   "file_extension": ".py",
   "mimetype": "text/x-python",
   "name": "python",
   "nbconvert_exporter": "python",
   "pygments_lexer": "ipython3",
   "version": "3.8.5"
  },
  "orig_nbformat": 2,
  "kernelspec": {
   "name": "python385jvsc74a57bd0aee8b7b246df8f9039afb4144a1f6fd8d2ca17a180786b69acc140d282b71a49",
   "display_name": "Python 3.8.5 64-bit"
  }
 },
 "nbformat": 4,
 "nbformat_minor": 2,
 "cells": [
  {
   "cell_type": "code",
   "execution_count": 9,
   "metadata": {},
   "outputs": [],
   "source": [
    "from PIL import Image\n",
    "import os"
   ]
  },
  {
   "cell_type": "code",
   "execution_count": 12,
   "metadata": {},
   "outputs": [],
   "source": [
    "for filename in os.listdir('/Users/robertpkoenig/Documents/st-andrews/games/p3/planning/assets/eating/'):\n",
    "    if not filename.endswith(\".png\"): continue\n",
    "    image = Image.open(r\"/Users/robertpkoenig/Documents/st-andrews/games/p3/planning/assets/eating/\" + filename)\n",
    "    top_left = (image.width - 60) / 2\n",
    "    bottom_right = top_left + 60\n",
    "    cropped_image = image.crop([top_left, top_left, bottom_right, bottom_right])\n",
    "    cropped_image.save(\"/Users/robertpkoenig/Documents/st-andrews/games/p3/planning/assets/eating/cropped/\" + filename)"
   ]
  }
 ]
}